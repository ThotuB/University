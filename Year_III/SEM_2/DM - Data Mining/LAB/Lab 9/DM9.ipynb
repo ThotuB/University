{
  "cells": [
    {
      "cell_type": "markdown",
      "metadata": {
        "id": "ABgJm7rGrchr"
      },
      "source": [
        "# Boston Crimes"
      ]
    },
    {
      "cell_type": "code",
      "execution_count": null,
      "metadata": {
        "id": "ccRq515Tremp"
      },
      "outputs": [],
      "source": [
        "import numpy as np \n",
        "import pandas as pd \n",
        "import matplotlib.pyplot as plt\n",
        "import plotly.graph_objects as go\n",
        "import plotly.express as px\n",
        "pd.set_option('display.max_rows', None)\n",
        "import datetime\n",
        "from plotly.subplots import make_subplots"
      ]
    },
    {
      "cell_type": "code",
      "execution_count": null,
      "metadata": {
        "colab": {
          "base_uri": "https://localhost:8080/",
          "height": 357
        },
        "id": "-YlegFD0rrsS",
        "outputId": "99b19f1f-d600-4d29-8208-aa040f401924"
      },
      "outputs": [],
      "source": [
        "data = pd.read_csv('crime.csv', encoding='latin')\n",
        "data[:5]"
      ]
    },
    {
      "cell_type": "code",
      "execution_count": null,
      "metadata": {
        "id": "ddeSTtv-rvtO"
      },
      "outputs": [],
      "source": [
        "def treemap(categories, title, path, values):\n",
        "    fig = px.treemap(categories, path=path, values=values, height=700,\n",
        "                 title=title, color_discrete_sequence = px.colors.sequential.RdBu)\n",
        "    fig.data[0].textinfo = 'label+text+value'\n",
        "    fig.show()"
      ]
    },
    {
      "cell_type": "code",
      "execution_count": null,
      "metadata": {
        "id": "m6aP0SS2sI1s"
      },
      "outputs": [],
      "source": [
        "def histogram(data, path, color, title, xaxis: str, yaxis: str):\n",
        "    fig = px.histogram(data, x=path, color=color)\n",
        "    fig.update_layout(\n",
        "        title_text=title,\n",
        "        xaxis_title_text=xaxis, \n",
        "        yaxis_title_text=yaxis, \n",
        "        bargap=0.2, \n",
        "        bargroupgap=0.1\n",
        "    )\n",
        "    fig.show()"
      ]
    },
    {
      "cell_type": "code",
      "execution_count": null,
      "metadata": {
        "id": "Dc_cV3p6sKUT"
      },
      "outputs": [],
      "source": [
        "def bar(categories, x, y, color, title, xlab, ylab):\n",
        "    fig = px.bar(categories, x=x, y=y,\n",
        "             color=color,\n",
        "             height=400)\n",
        "    fig.update_layout(\n",
        "    title_text=title, \n",
        "    xaxis_title_text=xlab, \n",
        "    yaxis_title_text=ylab,\n",
        "    bargap=0.2, \n",
        "    bargroupgap=0.1\n",
        "    )\n",
        "    fig.show()"
      ]
    },
    {
      "cell_type": "code",
      "execution_count": null,
      "metadata": {
        "colab": {
          "base_uri": "https://localhost:8080/",
          "height": 206
        },
        "id": "Y4PNkSzGsNjL",
        "outputId": "98c991bc-ebd1-4a06-96a1-472e29d5b391"
      },
      "outputs": [],
      "source": [
        "# Number of crimes per category\n",
        "Number_crimes = data['OFFENSE_CODE_GROUP'].value_counts()\n",
        "values = Number_crimes.values\n",
        "categories = pd.DataFrame(data=Number_crimes.index, columns=[\"OFFENSE_CODE_GROUP\"])\n",
        "categories['values'] = values\n",
        "categories[:5]"
      ]
    },
    {
      "cell_type": "code",
      "execution_count": null,
      "metadata": {
        "id": "5u83eJqSsbB5"
      },
      "outputs": [],
      "source": [
        "treemap(categories,'Major Crimes in Boston',['OFFENSE_CODE_GROUP'],categories['values'])"
      ]
    },
    {
      "cell_type": "code",
      "execution_count": null,
      "metadata": {
        "id": "ZK_n40o3sgiG"
      },
      "outputs": [],
      "source": [
        "histogram(data,\"OFFENSE_CODE_GROUP\",\"OFFENSE_CODE_GROUP\",'Major Crimes in Boston','Crime','Count')"
      ]
    },
    {
      "cell_type": "code",
      "execution_count": null,
      "metadata": {
        "id": "tE3CdN0tsjZj"
      },
      "outputs": [],
      "source": [
        "bar(categories,categories['OFFENSE_CODE_GROUP'][0:10],categories['values'][0:10]\n",
        "    ,categories['OFFENSE_CODE_GROUP'][0:10],'Top 10 Major Crimes in Boston','Crime','Count')"
      ]
    },
    {
      "cell_type": "code",
      "execution_count": null,
      "metadata": {
        "colab": {
          "base_uri": "https://localhost:8080/",
          "height": 175
        },
        "id": "eLMnCZHasl9p",
        "outputId": "e1b8048d-62c0-490a-9d60-0d9126a979ce"
      },
      "outputs": [],
      "source": [
        "Number_crimes_year = data['YEAR'].value_counts()\n",
        "years = pd.DataFrame(data=Number_crimes_year.index, columns=[\"YEAR\"])\n",
        "years['values'] = Number_crimes_year.values\n",
        "years"
      ]
    },
    {
      "cell_type": "code",
      "execution_count": null,
      "metadata": {
        "id": "geGSm2YTspS9"
      },
      "outputs": [],
      "source": [
        "fig = px.pie(years, values='values', names='YEAR', color_discrete_sequence=px.colors.sequential.RdBu)\n",
        "fig.show()"
      ]
    },
    {
      "cell_type": "code",
      "execution_count": null,
      "metadata": {
        "id": "ItNUCjbqwxEg"
      },
      "outputs": [],
      "source": [
        "histogram(data,\"DISTRICT\",\"MONTH\",'Crime count per Month on each district', 'District', 'Crimes Count on each Day')"
      ]
    },
    {
      "cell_type": "markdown",
      "metadata": {
        "id": "CHaoyow9vSru"
      },
      "source": [
        "### Exercise 1\n",
        "Use any plots for this exercise, can use different plots for different exercises.\n"
      ]
    },
    {
      "cell_type": "markdown",
      "metadata": {},
      "source": [
        "\n",
        "1. What are the months with highest crime rate? Plot the data.\n"
      ]
    },
    {
      "cell_type": "code",
      "execution_count": null,
      "metadata": {},
      "outputs": [],
      "source": [
        "series_crimes = data[\"MONTH\"].value_counts().sort_index()\n",
        "df_crimes = pd.DataFrame({'MONTH': series_crimes.index, 'COUNT': series_crimes.values})\n",
        "bar(df_crimes, \"MONTH\", \"COUNT\", 'MONTH', 'Crime count per District on each Month', 'Month', 'Crimes Count on each Day')"
      ]
    },
    {
      "cell_type": "markdown",
      "metadata": {},
      "source": [
        "\n",
        "2. What are the days of the week with highest crime rate? Plot the data.\n"
      ]
    },
    {
      "cell_type": "code",
      "execution_count": null,
      "metadata": {},
      "outputs": [],
      "source": [
        "series_weekday_crimes = data['DAY_OF_WEEK'].value_counts()\n",
        "df_crimes = pd.DataFrame({'DAY_OF_WEEK': series_weekday_crimes.index, 'COUNT': series_weekday_crimes.values})\n",
        "bar(df_crimes, \"DAY_OF_WEEK\", \"COUNT\", 'DAY_OF_WEEK', 'Crime count on each Day', 'Day', 'Crimes Count on each Day')"
      ]
    },
    {
      "cell_type": "markdown",
      "metadata": {},
      "source": [
        "\n",
        "3. What are the districts with highest crime rate? Plot the data.\n"
      ]
    },
    {
      "cell_type": "code",
      "execution_count": null,
      "metadata": {},
      "outputs": [],
      "source": [
        "series_weekday_crimes = data['DISTRICT'].value_counts()\n",
        "df_crimes = pd.DataFrame({'DISTRICT': series_weekday_crimes.index, 'COUNT': series_weekday_crimes.values})\n",
        "bar(df_crimes, \"DISTRICT\", \"COUNT\", 'DISTRICT', 'Crime count on each DISTRICT', 'District', 'Crimes Count')"
      ]
    },
    {
      "cell_type": "markdown",
      "metadata": {},
      "source": [
        "\n",
        "4. Plot the crime rate per district per day of week."
      ]
    },
    {
      "cell_type": "code",
      "execution_count": null,
      "metadata": {},
      "outputs": [],
      "source": [
        "histogram(data,\"DISTRICT\",\"DAY_OF_WEEK\",'Crime count per Day on each district', 'District', 'Crimes Count')"
      ]
    },
    {
      "cell_type": "markdown",
      "metadata": {
        "id": "SxKEMG200uoV"
      },
      "source": [
        "### Map "
      ]
    },
    {
      "cell_type": "code",
      "execution_count": null,
      "metadata": {},
      "outputs": [],
      "source": [
        "%%capture\n",
        "%pip install folium"
      ]
    },
    {
      "cell_type": "code",
      "execution_count": null,
      "metadata": {
        "id": "9ygktlqsOpIw"
      },
      "outputs": [],
      "source": [
        "import folium\n",
        "from folium import Choropleth, Circle, Marker\n",
        "from folium.plugins import HeatMap, MarkerCluster\n"
      ]
    },
    {
      "cell_type": "code",
      "execution_count": null,
      "metadata": {
        "id": "d42qiOBOVCwN"
      },
      "outputs": [],
      "source": [
        "# Create a map centered on Boston\n",
        "m_1 = folium.Map(location=[42.32,-71.0589], tiles='openstreetmap', zoom_start=10)\n",
        "\n",
        "# Display the map\n",
        "m_1"
      ]
    },
    {
      "cell_type": "code",
      "execution_count": null,
      "metadata": {
        "colab": {
          "base_uri": "https://localhost:8080/",
          "height": 392
        },
        "id": "-_LqNIsHEnpu",
        "outputId": "f731ccae-7670-461b-a40e-bde2c7cb0526"
      },
      "outputs": [],
      "source": [
        "import pandas as pd\n",
        "# Load the data\n",
        "crimes = pd.read_csv(\"crime.csv\", encoding='latin-1')\n",
        "crimes\n",
        "\n",
        "# Drop rows with missing locations\n",
        "crimes.dropna(subset=['Lat', 'Long', 'DISTRICT'], inplace=True)\n",
        "\n",
        "# Focus on major crimes\n",
        "crimes = crimes[crimes.OFFENSE_CODE_GROUP.isin([\n",
        "    'Larceny', 'Auto Theft', 'Robbery', 'Larceny From Motor Vehicle', 'Residential Burglary',\n",
        "    'Simple Assault', 'Harassment', 'Ballistics', 'Aggravated Assault', 'Other Burglary', \n",
        "    'Arson', 'Commercial Burglary', 'HOME INVASION', 'Homicide', 'Criminal Harassment', \n",
        "    'Manslaughter'])]\n",
        "\n",
        "# Print the first five rows of the table\n",
        "crimes.head()"
      ]
    },
    {
      "cell_type": "code",
      "execution_count": null,
      "metadata": {
        "id": "fuQB71QfS4aA"
      },
      "outputs": [],
      "source": [
        "daytime_robberies = crimes[((crimes.OFFENSE_CODE_GROUP == 'Robbery') & \\\n",
        "                            (crimes.HOUR.isin(range(9,18))))]"
      ]
    },
    {
      "cell_type": "code",
      "execution_count": null,
      "metadata": {
        "colab": {
          "base_uri": "https://localhost:8080/",
          "height": 915
        },
        "id": "tJD7cQitS8s5",
        "outputId": "1f73fffc-082c-4298-ff9c-aeb03de4a2bc"
      },
      "outputs": [],
      "source": [
        "# Create a map with markers\n",
        "m_2 = folium.Map(location=[42.32,-71.0589], tiles='cartodbpositron', zoom_start=13)\n",
        "\n",
        "# Add daytime robberies to the map\n",
        "for idx, row in daytime_robberies.iterrows():\n",
        "    Marker([row['Lat'], row['Long']]).add_to(m_2)\n",
        "\n",
        "# Display the map - All daytime robberies\n",
        "m_2"
      ]
    },
    {
      "cell_type": "code",
      "execution_count": null,
      "metadata": {
        "colab": {
          "base_uri": "https://localhost:8080/",
          "height": 915
        },
        "id": "Sj7NM9q7UJIz",
        "outputId": "b4c21db2-0615-42cd-a8a9-bbe104fd1047"
      },
      "outputs": [],
      "source": [
        "# Marker clusters\n",
        "import math\n",
        "# Create the map\n",
        "m_3 = folium.Map(location=[42.32,-71.0589], tiles='cartodbpositron', zoom_start=13)\n",
        "\n",
        "# Add points to the map\n",
        "mc = MarkerCluster()\n",
        "for idx, row in daytime_robberies.iterrows():\n",
        "    if not math.isnan(row['Long']) and not math.isnan(row['Lat']):\n",
        "        mc.add_child(Marker([row['Lat'], row['Long']]))\n",
        "m_3.add_child(mc)\n",
        "\n",
        "# Display the map\n",
        "m_3"
      ]
    },
    {
      "cell_type": "code",
      "execution_count": null,
      "metadata": {
        "colab": {
          "base_uri": "https://localhost:8080/",
          "height": 915
        },
        "id": "NNjiP_-AUNsF",
        "outputId": "3895016a-348a-4b28-8568-658c632ca9b1"
      },
      "outputs": [],
      "source": [
        "# Create a base map\n",
        "m_4 = folium.Map(location=[42.32,-71.0589], tiles='cartodbpositron', zoom_start=12)\n",
        "\n",
        "def color_producer(val):\n",
        "    if val <= 12:\n",
        "        return 'forestgreen'\n",
        "    else:\n",
        "        return 'darkred'\n",
        "\n",
        "# Add a bubble to the base map\n",
        "for i in range(0,len(daytime_robberies)):\n",
        "    Circle(\n",
        "        location=[daytime_robberies.iloc[i]['Lat'], daytime_robberies.iloc[i]['Long']],\n",
        "        radius=20,\n",
        "        color=color_producer(daytime_robberies.iloc[i]['HOUR'])).add_to(m_4)\n",
        "\n",
        "# Display the map\n",
        "m_4"
      ]
    },
    {
      "cell_type": "markdown",
      "metadata": {
        "id": "2bvU2Lfe3Tk6"
      },
      "source": [
        "Exercise 2\n"
      ]
    },
    {
      "cell_type": "markdown",
      "metadata": {},
      "source": [
        "\n",
        "1. Plot all of the crimes that occurred in district D14 during 2018\n"
      ]
    },
    {
      "cell_type": "code",
      "execution_count": null,
      "metadata": {},
      "outputs": [],
      "source": [
        "# d14_crimes = crimes[crimes.]\n",
        "crimes"
      ]
    },
    {
      "cell_type": "markdown",
      "metadata": {},
      "source": [
        "\n",
        "2. Plot all of the robberies that occurred on Friday evenings (after 18:00 o'clock).\n"
      ]
    },
    {
      "cell_type": "code",
      "execution_count": null,
      "metadata": {},
      "outputs": [],
      "source": []
    },
    {
      "cell_type": "markdown",
      "metadata": {},
      "source": [
        "\n",
        "3. Plot all of the robberies that occured on the 4th of July.\n"
      ]
    },
    {
      "cell_type": "code",
      "execution_count": null,
      "metadata": {},
      "outputs": [],
      "source": []
    },
    {
      "cell_type": "markdown",
      "metadata": {},
      "source": [
        "\n",
        "4. Plot all of the crimes that occurred on the 1st of January.\n",
        "   \n"
      ]
    },
    {
      "cell_type": "code",
      "execution_count": null,
      "metadata": {},
      "outputs": [],
      "source": []
    },
    {
      "cell_type": "markdown",
      "metadata": {},
      "source": [
        "5. Count (separately) the number of crimes that occured on the 1st of January, December 31st, 4th of July and May 12th. Compare the 4 results.\n",
        "\n",
        "\n"
      ]
    },
    {
      "cell_type": "code",
      "execution_count": null,
      "metadata": {
        "id": "Fg06I-qOAmr7"
      },
      "outputs": [],
      "source": [
        "# Write your code below"
      ]
    },
    {
      "cell_type": "code",
      "execution_count": null,
      "metadata": {
        "colab": {
          "base_uri": "https://localhost:8080/",
          "height": 1000
        },
        "id": "0GFvL83Y6Yqk",
        "outputId": "dc5dcb09-fb1d-488b-d72f-f03367ca83a4"
      },
      "outputs": [],
      "source": [
        "import pandas as pd\n",
        "# Load the data\n",
        "earthquakes = pd.read_csv(\"database.csv\", encoding='latin-1')\n",
        "earthquakes\n"
      ]
    },
    {
      "cell_type": "code",
      "execution_count": null,
      "metadata": {
        "colab": {
          "base_uri": "https://localhost:8080/",
          "height": 915
        },
        "id": "A5OY_ApR6xGH",
        "outputId": "7b05d86b-cef8-4793-a312-603ac7ba6443"
      },
      "outputs": [],
      "source": [
        "# Create a map\n",
        "m_2 = folium.Map(location=[42.32,-71.0589], tiles='cartodbpositron', zoom_start=1)\n",
        "\n",
        "cnt = 0\n",
        "\n",
        "# Add first 100 earthquakes to the map\n",
        "for idx, row in earthquakes.iterrows():\n",
        "    Marker([row['Latitude'], row['Longitude']]).add_to(m_2)\n",
        "\n",
        "    cnt +=1 \n",
        "    if cnt == 100:\n",
        "        break\n",
        "\n",
        "# Display the map\n",
        "m_2"
      ]
    },
    {
      "cell_type": "markdown",
      "metadata": {
        "id": "BOaC74Hd5SUc"
      },
      "source": [
        "### Exercise 3\n",
        "1. Plot all of the earthquakes that occurred between 41 and 42 degrees latitude.\n",
        "2. Plot all of the earthquakes that occurred in Boston (or at max 1 degree latitude and 1 degree longitude away from it). How many earthquakes did Boston suffer?\n",
        "3. Plot all of the earthquakes that were of magnitude greater than 7 using circles on the map. Use the magnitude to increase the circle radius (higher magnitude - bigger circle."
      ]
    },
    {
      "cell_type": "code",
      "execution_count": null,
      "metadata": {
        "colab": {
          "base_uri": "https://localhost:8080/",
          "height": 206
        },
        "id": "Lhyju1r965Pv",
        "outputId": "bff192f6-35a0-497e-bd3e-8da084c4857a"
      },
      "outputs": [],
      "source": [
        "import pandas as pd\n",
        "# Load the data\n",
        "cities = pd.read_csv(\"worldcities.csv\", encoding='latin-1')\n",
        "cities[:5]"
      ]
    },
    {
      "cell_type": "markdown",
      "metadata": {
        "id": "cuj-4LIe8unr"
      },
      "source": [
        "### Exercise 4\n",
        "1. Plot all of cities in Romania using circles and increase the circle radius based on population.\n",
        "2. Plot all of the earthquakes that took place at max 5 degrees latitude and longitude away from Bucharest. (lat_eq + long_eq - lat_buch - long_buch > 5)\n"
      ]
    },
    {
      "cell_type": "code",
      "execution_count": null,
      "metadata": {
        "id": "QfUtMPCiASNT"
      },
      "outputs": [],
      "source": [
        "# Write your code below"
      ]
    },
    {
      "cell_type": "markdown",
      "metadata": {
        "id": "Tn0WFSig_2mm"
      },
      "source": [
        "### Exercise 5\n",
        "Create two useful visualizations (graph plots and/or map plots) by making use of information from at least two of the datasets provided in the laboratory."
      ]
    },
    {
      "cell_type": "code",
      "execution_count": null,
      "metadata": {
        "id": "4nRNwhoMARLO"
      },
      "outputs": [],
      "source": [
        "# Write your code below"
      ]
    }
  ],
  "metadata": {
    "colab": {
      "collapsed_sections": [],
      "name": "Lab9DM.ipynb",
      "provenance": []
    },
    "interpreter": {
      "hash": "369f2c481f4da34e4445cda3fffd2e751bd1c4d706f27375911949ba6bb62e1c"
    },
    "kernelspec": {
      "display_name": "Python 3.10.0 64-bit",
      "language": "python",
      "name": "python3"
    },
    "language_info": {
      "codemirror_mode": {
        "name": "ipython",
        "version": 3
      },
      "file_extension": ".py",
      "mimetype": "text/x-python",
      "name": "python",
      "nbconvert_exporter": "python",
      "pygments_lexer": "ipython3",
      "version": "3.10.0"
    }
  },
  "nbformat": 4,
  "nbformat_minor": 0
}
